{
 "cells": [
  {
   "cell_type": "code",
   "execution_count": 1,
   "metadata": {},
   "outputs": [],
   "source": [
    "import sys\n",
    "import pandas as pd\n",
    "import matplotlib.pyplot as plt\n",
    "import seaborn as sns\n",
    "from sklearn.preprocessing import MinMaxScaler\n",
    "from sklearn.cluster import KMeans"
   ]
  },
  {
   "cell_type": "code",
   "execution_count": 3,
   "metadata": {},
   "outputs": [],
   "source": [
    "sys.path.append('../scripts')  # Add the scripts directory to the path\n",
    "from load_data import load_data\n",
    "from aggregiate_metrics import aggregate_user_metrics\n",
    "from normalize_and_cluster import normalize_metrics, run_kmeans\n"
   ]
  },
  {
   "cell_type": "code",
   "execution_count": 4,
   "metadata": {},
   "outputs": [
    {
     "name": "stdout",
     "output_type": "stream",
     "text": [
      "Connected to the database\n"
     ]
    },
    {
     "name": "stderr",
     "output_type": "stream",
     "text": [
      "c:\\Users\\Kalea\\Desktop\\week-2\\notebooks\\../scripts\\load_data.py:47: UserWarning: pandas only supports SQLAlchemy connectable (engine/connection) or database string URI or sqlite3 DBAPI2 connection. Other DBAPI2 objects are not tested. Please consider using SQLAlchemy.\n",
      "  df=pd.read_sql(query, conn)\n"
     ]
    },
    {
     "name": "stdout",
     "output_type": "stream",
     "text": [
      "Data loaded successfully\n",
      "Database connection closed\n"
     ]
    }
   ],
   "source": [
    "df = aggregate_user_metrics()"
   ]
  },
  {
   "cell_type": "code",
   "execution_count": 7,
   "metadata": {},
   "outputs": [
    {
     "data": {
      "text/html": [
       "<div>\n",
       "<style scoped>\n",
       "    .dataframe tbody tr th:only-of-type {\n",
       "        vertical-align: middle;\n",
       "    }\n",
       "\n",
       "    .dataframe tbody tr th {\n",
       "        vertical-align: top;\n",
       "    }\n",
       "\n",
       "    .dataframe thead th {\n",
       "        text-align: right;\n",
       "    }\n",
       "</style>\n",
       "<table border=\"1\" class=\"dataframe\">\n",
       "  <thead>\n",
       "    <tr style=\"text-align: right;\">\n",
       "      <th></th>\n",
       "      <th>msisdn</th>\n",
       "      <th>session_frequency</th>\n",
       "      <th>total_session_duration</th>\n",
       "      <th>total_session_traffic</th>\n",
       "    </tr>\n",
       "  </thead>\n",
       "  <tbody>\n",
       "    <tr>\n",
       "      <th>0</th>\n",
       "      <td>3.366211e+10</td>\n",
       "      <td>1</td>\n",
       "      <td>14239.0</td>\n",
       "      <td>7.455855e+08</td>\n",
       "    </tr>\n",
       "    <tr>\n",
       "      <th>1</th>\n",
       "      <td>3.361542e+10</td>\n",
       "      <td>2</td>\n",
       "      <td>60414.0</td>\n",
       "      <td>9.984433e+08</td>\n",
       "    </tr>\n",
       "    <tr>\n",
       "      <th>2</th>\n",
       "      <td>NaN</td>\n",
       "      <td>504</td>\n",
       "      <td>72446396.0</td>\n",
       "      <td>5.312489e+11</td>\n",
       "    </tr>\n",
       "    <tr>\n",
       "      <th>3</th>\n",
       "      <td>3.376314e+10</td>\n",
       "      <td>4</td>\n",
       "      <td>306379.0</td>\n",
       "      <td>2.337195e+09</td>\n",
       "    </tr>\n",
       "    <tr>\n",
       "      <th>4</th>\n",
       "      <td>3.365845e+10</td>\n",
       "      <td>3</td>\n",
       "      <td>159255.0</td>\n",
       "      <td>1.980244e+09</td>\n",
       "    </tr>\n",
       "  </tbody>\n",
       "</table>\n",
       "</div>"
      ],
      "text/plain": [
       "         msisdn  session_frequency  total_session_duration  \\\n",
       "0  3.366211e+10                  1                 14239.0   \n",
       "1  3.361542e+10                  2                 60414.0   \n",
       "2           NaN                504              72446396.0   \n",
       "3  3.376314e+10                  4                306379.0   \n",
       "4  3.365845e+10                  3                159255.0   \n",
       "\n",
       "   total_session_traffic  \n",
       "0           7.455855e+08  \n",
       "1           9.984433e+08  \n",
       "2           5.312489e+11  \n",
       "3           2.337195e+09  \n",
       "4           1.980244e+09  "
      ]
     },
     "execution_count": 7,
     "metadata": {},
     "output_type": "execute_result"
    }
   ],
   "source": [
    "df.head()"
   ]
  },
  {
   "cell_type": "code",
   "execution_count": 8,
   "metadata": {},
   "outputs": [
    {
     "name": "stdout",
     "output_type": "stream",
     "text": [
      "Missing values detected. Filling with column mean...\n"
     ]
    }
   ],
   "source": [
    "# Step 2: Handle missing data (if any)\n",
    "if df.isnull().sum().sum() > 0:\n",
    "    print(\"Missing values detected. Filling with column mean...\")\n",
    "    df = df.fillna(df.mean())  # Fill missing values with column mean\n"
   ]
  },
  {
   "cell_type": "code",
   "execution_count": 9,
   "metadata": {},
   "outputs": [],
   "source": [
    "# Step 3: Normalize the engagement metrics\n",
    "columns_to_normalize = ['session_frequency', 'total_session_duration', 'total_session_traffic']\n",
    "df = normalize_metrics(df)"
   ]
  },
  {
   "cell_type": "code",
   "execution_count": 10,
   "metadata": {},
   "outputs": [
    {
     "data": {
      "text/html": [
       "<div>\n",
       "<style scoped>\n",
       "    .dataframe tbody tr th:only-of-type {\n",
       "        vertical-align: middle;\n",
       "    }\n",
       "\n",
       "    .dataframe tbody tr th {\n",
       "        vertical-align: top;\n",
       "    }\n",
       "\n",
       "    .dataframe thead th {\n",
       "        text-align: right;\n",
       "    }\n",
       "</style>\n",
       "<table border=\"1\" class=\"dataframe\">\n",
       "  <thead>\n",
       "    <tr style=\"text-align: right;\">\n",
       "      <th></th>\n",
       "      <th>msisdn</th>\n",
       "      <th>session_frequency</th>\n",
       "      <th>total_session_duration</th>\n",
       "      <th>total_session_traffic</th>\n",
       "    </tr>\n",
       "  </thead>\n",
       "  <tbody>\n",
       "    <tr>\n",
       "      <th>0</th>\n",
       "      <td>3.366211e+10</td>\n",
       "      <td>0.001984</td>\n",
       "      <td>0.000098</td>\n",
       "      <td>0.001341</td>\n",
       "    </tr>\n",
       "    <tr>\n",
       "      <th>1</th>\n",
       "      <td>3.361542e+10</td>\n",
       "      <td>0.003968</td>\n",
       "      <td>0.000735</td>\n",
       "      <td>0.001817</td>\n",
       "    </tr>\n",
       "    <tr>\n",
       "      <th>2</th>\n",
       "      <td>4.511474e+10</td>\n",
       "      <td>1.000000</td>\n",
       "      <td>1.000000</td>\n",
       "      <td>1.000000</td>\n",
       "    </tr>\n",
       "    <tr>\n",
       "      <th>3</th>\n",
       "      <td>3.376314e+10</td>\n",
       "      <td>0.007937</td>\n",
       "      <td>0.004131</td>\n",
       "      <td>0.004337</td>\n",
       "    </tr>\n",
       "    <tr>\n",
       "      <th>4</th>\n",
       "      <td>3.365845e+10</td>\n",
       "      <td>0.005952</td>\n",
       "      <td>0.002100</td>\n",
       "      <td>0.003665</td>\n",
       "    </tr>\n",
       "  </tbody>\n",
       "</table>\n",
       "</div>"
      ],
      "text/plain": [
       "         msisdn  session_frequency  total_session_duration  \\\n",
       "0  3.366211e+10           0.001984                0.000098   \n",
       "1  3.361542e+10           0.003968                0.000735   \n",
       "2  4.511474e+10           1.000000                1.000000   \n",
       "3  3.376314e+10           0.007937                0.004131   \n",
       "4  3.365845e+10           0.005952                0.002100   \n",
       "\n",
       "   total_session_traffic  \n",
       "0               0.001341  \n",
       "1               0.001817  \n",
       "2               1.000000  \n",
       "3               0.004337  \n",
       "4               0.003665  "
      ]
     },
     "execution_count": 10,
     "metadata": {},
     "output_type": "execute_result"
    }
   ],
   "source": [
    "df.head()"
   ]
  },
  {
   "cell_type": "code",
   "execution_count": 11,
   "metadata": {},
   "outputs": [
    {
     "name": "stderr",
     "output_type": "stream",
     "text": [
      "c:\\Users\\Kalea\\Desktop\\week-2\\env\\lib\\site-packages\\sklearn\\cluster\\_kmeans.py:1412: FutureWarning: The default value of `n_init` will change from 10 to 'auto' in 1.4. Set the value of `n_init` explicitly to suppress the warning\n",
      "  super()._check_params_vs_input(X, default_n_init=10)\n"
     ]
    }
   ],
   "source": [
    "# Step 4: K-means Clustering (using k=3 for now)\n",
    "df = run_kmeans(df, n_clusters=3)"
   ]
  },
  {
   "cell_type": "code",
   "execution_count": 12,
   "metadata": {},
   "outputs": [
    {
     "name": "stdout",
     "output_type": "stream",
     "text": [
      "\n",
      "Cluster Descriptive Statistics:\n",
      "                    session_frequency                                  \\\n",
      "                                 min       max      mean         sum   \n",
      "engagement_cluster                                                     \n",
      "0                           0.000000  0.007937  0.002389  232.128968   \n",
      "1                           0.001984  0.035714  0.006450   62.525794   \n",
      "2                           1.000000  1.000000  1.000000    1.000000   \n",
      "\n",
      "                   total_session_duration                                  \\\n",
      "                                      min       max      mean         sum   \n",
      "engagement_cluster                                                          \n",
      "0                                0.000000  0.006615  0.001462  142.005671   \n",
      "1                                0.000821  0.256030  0.006506   63.071981   \n",
      "2                                1.000000  1.000000  1.000000    1.000000   \n",
      "\n",
      "                   total_session_traffic                                  \n",
      "                                     min       max      mean         sum  \n",
      "engagement_cluster                                                        \n",
      "0                               0.000000  0.004529  0.001062  103.148798  \n",
      "1                               0.000045  0.016590  0.003007   29.152621  \n",
      "2                               1.000000  1.000000  1.000000    1.000000  \n"
     ]
    }
   ],
   "source": [
    "# Step 5: Descriptive statistics for each cluster\n",
    "cluster_stats = df.groupby('engagement_cluster')[['session_frequency', 'total_session_duration', 'total_session_traffic']].agg(['min', 'max', 'mean', 'sum'])\n",
    "print(\"\\nCluster Descriptive Statistics:\\n\", cluster_stats)"
   ]
  },
  {
   "cell_type": "code",
   "execution_count": 13,
   "metadata": {},
   "outputs": [
    {
     "data": {
      "text/html": [
       "<div>\n",
       "<style scoped>\n",
       "    .dataframe tbody tr th:only-of-type {\n",
       "        vertical-align: middle;\n",
       "    }\n",
       "\n",
       "    .dataframe tbody tr th {\n",
       "        vertical-align: top;\n",
       "    }\n",
       "\n",
       "    .dataframe thead tr th {\n",
       "        text-align: left;\n",
       "    }\n",
       "\n",
       "    .dataframe thead tr:last-of-type th {\n",
       "        text-align: right;\n",
       "    }\n",
       "</style>\n",
       "<table border=\"1\" class=\"dataframe\">\n",
       "  <thead>\n",
       "    <tr>\n",
       "      <th></th>\n",
       "      <th colspan=\"4\" halign=\"left\">session_frequency</th>\n",
       "      <th colspan=\"4\" halign=\"left\">total_session_duration</th>\n",
       "      <th colspan=\"4\" halign=\"left\">total_session_traffic</th>\n",
       "    </tr>\n",
       "    <tr>\n",
       "      <th></th>\n",
       "      <th>min</th>\n",
       "      <th>max</th>\n",
       "      <th>mean</th>\n",
       "      <th>sum</th>\n",
       "      <th>min</th>\n",
       "      <th>max</th>\n",
       "      <th>mean</th>\n",
       "      <th>sum</th>\n",
       "      <th>min</th>\n",
       "      <th>max</th>\n",
       "      <th>mean</th>\n",
       "      <th>sum</th>\n",
       "    </tr>\n",
       "    <tr>\n",
       "      <th>engagement_cluster</th>\n",
       "      <th></th>\n",
       "      <th></th>\n",
       "      <th></th>\n",
       "      <th></th>\n",
       "      <th></th>\n",
       "      <th></th>\n",
       "      <th></th>\n",
       "      <th></th>\n",
       "      <th></th>\n",
       "      <th></th>\n",
       "      <th></th>\n",
       "      <th></th>\n",
       "    </tr>\n",
       "  </thead>\n",
       "  <tbody>\n",
       "    <tr>\n",
       "      <th>0</th>\n",
       "      <td>0.000000</td>\n",
       "      <td>0.007937</td>\n",
       "      <td>0.002389</td>\n",
       "      <td>232.128968</td>\n",
       "      <td>0.000000</td>\n",
       "      <td>0.006615</td>\n",
       "      <td>0.001462</td>\n",
       "      <td>142.005671</td>\n",
       "      <td>0.000000</td>\n",
       "      <td>0.004529</td>\n",
       "      <td>0.001062</td>\n",
       "      <td>103.148798</td>\n",
       "    </tr>\n",
       "    <tr>\n",
       "      <th>1</th>\n",
       "      <td>0.001984</td>\n",
       "      <td>0.035714</td>\n",
       "      <td>0.006450</td>\n",
       "      <td>62.525794</td>\n",
       "      <td>0.000821</td>\n",
       "      <td>0.256030</td>\n",
       "      <td>0.006506</td>\n",
       "      <td>63.071981</td>\n",
       "      <td>0.000045</td>\n",
       "      <td>0.016590</td>\n",
       "      <td>0.003007</td>\n",
       "      <td>29.152621</td>\n",
       "    </tr>\n",
       "    <tr>\n",
       "      <th>2</th>\n",
       "      <td>1.000000</td>\n",
       "      <td>1.000000</td>\n",
       "      <td>1.000000</td>\n",
       "      <td>1.000000</td>\n",
       "      <td>1.000000</td>\n",
       "      <td>1.000000</td>\n",
       "      <td>1.000000</td>\n",
       "      <td>1.000000</td>\n",
       "      <td>1.000000</td>\n",
       "      <td>1.000000</td>\n",
       "      <td>1.000000</td>\n",
       "      <td>1.000000</td>\n",
       "    </tr>\n",
       "  </tbody>\n",
       "</table>\n",
       "</div>"
      ],
      "text/plain": [
       "                   session_frequency                                  \\\n",
       "                                 min       max      mean         sum   \n",
       "engagement_cluster                                                     \n",
       "0                           0.000000  0.007937  0.002389  232.128968   \n",
       "1                           0.001984  0.035714  0.006450   62.525794   \n",
       "2                           1.000000  1.000000  1.000000    1.000000   \n",
       "\n",
       "                   total_session_duration                                  \\\n",
       "                                      min       max      mean         sum   \n",
       "engagement_cluster                                                          \n",
       "0                                0.000000  0.006615  0.001462  142.005671   \n",
       "1                                0.000821  0.256030  0.006506   63.071981   \n",
       "2                                1.000000  1.000000  1.000000    1.000000   \n",
       "\n",
       "                   total_session_traffic                                  \n",
       "                                     min       max      mean         sum  \n",
       "engagement_cluster                                                        \n",
       "0                               0.000000  0.004529  0.001062  103.148798  \n",
       "1                               0.000045  0.016590  0.003007   29.152621  \n",
       "2                               1.000000  1.000000  1.000000    1.000000  "
      ]
     },
     "execution_count": 13,
     "metadata": {},
     "output_type": "execute_result"
    }
   ],
   "source": [
    "cluster_stats.head()"
   ]
  },
  {
   "cell_type": "code",
   "execution_count": 14,
   "metadata": {},
   "outputs": [
    {
     "data": {
      "image/png": "[encoded data removed]",
      "text/plain": [
       "<Figure size 1000x600 with 1 Axes>"
      ]
     },
     "metadata": {},
     "output_type": "display_data"
    }
   ],
   "source": [
    "# Step 6: Plot the engagement clusters using a scatterplot\n",
    "plt.figure(figsize=(10, 6))\n",
    "sns.scatterplot(x='total_session_duration', y='total_session_traffic', hue='engagement_cluster', data=df, palette='viridis', s=60, alpha=0.7)\n",
    "plt.title('User Engagement Clusters (by Session Duration vs Total Traffic)')\n",
    "plt.xlabel('Total Session Duration (ms)')\n",
    "plt.ylabel('Total Session Traffic (Bytes)')\n",
    "plt.legend(title='Cluster', loc='upper right')\n",
    "plt.show()"
   ]
  },
  {
   "cell_type": "code",
   "execution_count": 16,
   "metadata": {},
   "outputs": [
    {
     "name": "stderr",
     "output_type": "stream",
     "text": [
      "c:\\Users\\Kalea\\Desktop\\week-2\\env\\lib\\site-packages\\sklearn\\cluster\\_kmeans.py:1412: FutureWarning: The default value of `n_init` will change from 10 to 'auto' in 1.4. Set the value of `n_init` explicitly to suppress the warning\n",
      "  super()._check_params_vs_input(X, default_n_init=10)\n",
      "c:\\Users\\Kalea\\Desktop\\week-2\\env\\lib\\site-packages\\sklearn\\cluster\\_kmeans.py:1412: FutureWarning: The default value of `n_init` will change from 10 to 'auto' in 1.4. Set the value of `n_init` explicitly to suppress the warning\n",
      "  super()._check_params_vs_input(X, default_n_init=10)\n",
      "c:\\Users\\Kalea\\Desktop\\week-2\\env\\lib\\site-packages\\sklearn\\cluster\\_kmeans.py:1412: FutureWarning: The default value of `n_init` will change from 10 to 'auto' in 1.4. Set the value of `n_init` explicitly to suppress the warning\n",
      "  super()._check_params_vs_input(X, default_n_init=10)\n",
      "c:\\Users\\Kalea\\Desktop\\week-2\\env\\lib\\site-packages\\sklearn\\cluster\\_kmeans.py:1412: FutureWarning: The default value of `n_init` will change from 10 to 'auto' in 1.4. Set the value of `n_init` explicitly to suppress the warning\n",
      "  super()._check_params_vs_input(X, default_n_init=10)\n",
      "c:\\Users\\Kalea\\Desktop\\week-2\\env\\lib\\site-packages\\sklearn\\cluster\\_kmeans.py:1412: FutureWarning: The default value of `n_init` will change from 10 to 'auto' in 1.4. Set the value of `n_init` explicitly to suppress the warning\n",
      "  super()._check_params_vs_input(X, default_n_init=10)\n",
      "c:\\Users\\Kalea\\Desktop\\week-2\\env\\lib\\site-packages\\sklearn\\cluster\\_kmeans.py:1412: FutureWarning: The default value of `n_init` will change from 10 to 'auto' in 1.4. Set the value of `n_init` explicitly to suppress the warning\n",
      "  super()._check_params_vs_input(X, default_n_init=10)\n",
      "c:\\Users\\Kalea\\Desktop\\week-2\\env\\lib\\site-packages\\sklearn\\cluster\\_kmeans.py:1412: FutureWarning: The default value of `n_init` will change from 10 to 'auto' in 1.4. Set the value of `n_init` explicitly to suppress the warning\n",
      "  super()._check_params_vs_input(X, default_n_init=10)\n",
      "c:\\Users\\Kalea\\Desktop\\week-2\\env\\lib\\site-packages\\sklearn\\cluster\\_kmeans.py:1412: FutureWarning: The default value of `n_init` will change from 10 to 'auto' in 1.4. Set the value of `n_init` explicitly to suppress the warning\n",
      "  super()._check_params_vs_input(X, default_n_init=10)\n",
      "c:\\Users\\Kalea\\Desktop\\week-2\\env\\lib\\site-packages\\sklearn\\cluster\\_kmeans.py:1412: FutureWarning: The default value of `n_init` will change from 10 to 'auto' in 1.4. Set the value of `n_init` explicitly to suppress the warning\n",
      "  super()._check_params_vs_input(X, default_n_init=10)\n",
      "c:\\Users\\Kalea\\Desktop\\week-2\\env\\lib\\site-packages\\sklearn\\cluster\\_kmeans.py:1412: FutureWarning: The default value of `n_init` will change from 10 to 'auto' in 1.4. Set the value of `n_init` explicitly to suppress the warning\n",
      "  super()._check_params_vs_input(X, default_n_init=10)\n"
     ]
    },
    {
     "data": {
      "image/png": "[encoded data removed]",
      "text/plain": [
       "<Figure size 1000x600 with 1 Axes>"
      ]
     },
     "metadata": {},
     "output_type": "display_data"
    }
   ],
   "source": [
    "# Step 7: Determine optimal k using Elbow Method\n",
    "wcss = []\n",
    "for i in range(1, 11):\n",
    "    kmeans = KMeans(n_clusters=i, random_state=42)\n",
    "    kmeans.fit(df[columns_to_normalize])\n",
    "    wcss.append(kmeans.inertia_)\n",
    "\n",
    "# Plot the Elbow Method\n",
    "plt.figure(figsize=(10, 6))\n",
    "plt.plot(range(1, 11), wcss, marker='o', linestyle='--')\n",
    "plt.xlabel('Number of Clusters (k)')\n",
    "plt.ylabel('WCSS (Within-cluster Sum of Squares)')\n",
    "plt.title('Elbow Method to Determine Optimal k')\n",
    "plt.show()"
   ]
  },
  {
   "cell_type": "code",
   "execution_count": 17,
   "metadata": {},
   "outputs": [],
   "source": [
    "query = \"\"\"\n",
    "SELECT \n",
    "    \"MSISDN/Number\" as msisdn, \n",
    "    SUM(\"Youtube DL (Bytes)\") + SUM(\"Youtube UL (Bytes)\") AS youtube_traffic, \n",
    "    SUM(\"Gaming DL (Bytes)\") + SUM(\"Gaming UL (Bytes)\") AS gaming_traffic, \n",
    "    SUM(\"Social Media DL (Bytes)\") + SUM(\"Social Media UL (Bytes)\") AS social_media_traffic \n",
    "FROM xdr_data \n",
    "GROUP BY \"MSISDN/Number\";\n",
    "\"\"\""
   ]
  },
  {
   "cell_type": "code",
   "execution_count": 18,
   "metadata": {},
   "outputs": [
    {
     "name": "stdout",
     "output_type": "stream",
     "text": [
      "Connected to the database\n"
     ]
    },
    {
     "name": "stderr",
     "output_type": "stream",
     "text": [
      "c:\\Users\\Kalea\\Desktop\\week-2\\notebooks\\../scripts\\load_data.py:47: UserWarning: pandas only supports SQLAlchemy connectable (engine/connection) or database string URI or sqlite3 DBAPI2 connection. Other DBAPI2 objects are not tested. Please consider using SQLAlchemy.\n",
      "  df=pd.read_sql(query, conn)\n"
     ]
    },
    {
     "name": "stdout",
     "output_type": "stream",
     "text": [
      "Data loaded successfully\n",
      "Database connection closed\n"
     ]
    }
   ],
   "source": [
    "df_apps = load_data(query)"
   ]
  },
  {
   "cell_type": "code",
   "execution_count": 19,
   "metadata": {},
   "outputs": [
    {
     "name": "stdout",
     "output_type": "stream",
     "text": [
      "\n",
      "Top 10 Users for YouTube Traffic:\n",
      "               msisdn  youtube_traffic\n",
      "3                NaN     2.434073e+10\n",
      "53027   3.362578e+10     4.529588e+08\n",
      "19150   3.376054e+10     3.962892e+08\n",
      "31575   3.361489e+10     3.943702e+08\n",
      "64661   3.362632e+10     3.744830e+08\n",
      "32116   3.367588e+10     3.174106e+08\n",
      "100583  3.366716e+10     3.152313e+08\n",
      "6199    3.362708e+10     3.087908e+08\n",
      "40456   3.376041e+10     3.031691e+08\n",
      "4852    3.369879e+10     3.026620e+08\n",
      "\n",
      "Top 10 Users for Gaming Traffic:\n",
      "               msisdn  gaming_traffic\n",
      "3                NaN    4.614780e+11\n",
      "31575   3.361489e+10    7.749432e+09\n",
      "19150   3.376054e+10    7.461045e+09\n",
      "53027   3.362578e+10    7.326673e+09\n",
      "32116   3.367588e+10    6.970568e+09\n",
      "64661   3.362632e+10    6.887572e+09\n",
      "32999   3.365973e+10    6.725559e+09\n",
      "97294   3.366646e+10    6.646303e+09\n",
      "40456   3.376041e+10    6.268620e+09\n",
      "102736  3.366471e+10    6.103856e+09\n",
      "\n",
      "Top 10 Users for Social Media Traffic:\n",
      "               msisdn  social_media_traffic\n",
      "3                NaN          1.973817e+09\n",
      "64661   3.362632e+10          4.337478e+07\n",
      "19150   3.376054e+10          3.978319e+07\n",
      "32999   3.365973e+10          3.541236e+07\n",
      "31575   3.361489e+10          2.829454e+07\n",
      "53027   3.362578e+10          2.713550e+07\n",
      "100583  3.366716e+10          2.424785e+07\n",
      "48938   3.378632e+10          2.397492e+07\n",
      "44040   3.366907e+10          2.380083e+07\n",
      "42443   3.360313e+10          2.307782e+07\n"
     ]
    }
   ],
   "source": [
    "# View the top 10 users for each application\n",
    "top_users_youtube = df_apps[['msisdn', 'youtube_traffic']].sort_values(by='youtube_traffic', ascending=False).head(10)\n",
    "top_users_gaming = df_apps[['msisdn', 'gaming_traffic']].sort_values(by='gaming_traffic', ascending=False).head(10)\n",
    "top_users_social = df_apps[['msisdn', 'social_media_traffic']].sort_values(by='social_media_traffic', ascending=False).head(10)\n",
    "\n",
    "print(\"\\nTop 10 Users for YouTube Traffic:\\n\", top_users_youtube)\n",
    "print(\"\\nTop 10 Users for Gaming Traffic:\\n\", top_users_gaming)\n",
    "print(\"\\nTop 10 Users for Social Media Traffic:\\n\", top_users_social)"
   ]
  },
  {
   "cell_type": "code",
   "execution_count": 20,
   "metadata": {},
   "outputs": [
    {
     "data": {
      "image/png": "[encoded data removed]",
      "text/plain": [
       "<Figure size 1000x600 with 1 Axes>"
      ]
     },
     "metadata": {},
     "output_type": "display_data"
    }
   ],
   "source": [
    "# Plot the top 3 most used applications\n",
    "total_traffic_per_app = {\n",
    "    'YouTube': df_apps['youtube_traffic'].sum(),\n",
    "    'Gaming': df_apps['gaming_traffic'].sum(),\n",
    "    'Social Media': df_apps['social_media_traffic'].sum()\n",
    "}\n",
    "\n",
    "plt.figure(figsize=(10, 6))\n",
    "plt.bar(total_traffic_per_app.keys(), total_traffic_per_app.values(), color=['#ff9999','#66b3ff','#99ff99'])\n",
    "plt.title('Total Traffic per Application')\n",
    "plt.xlabel('Application')\n",
    "plt.ylabel('Traffic (Bytes)')\n",
    "plt.show()\n"
   ]
  },
  {
   "cell_type": "code",
   "execution_count": null,
   "metadata": {},
   "outputs": [],
   "source": []
  }
 ],
 "metadata": {
  "kernelspec": {
   "display_name": "env",
   "language": "python",
   "name": "python3"
  },
  "language_info": {
   "codemirror_mode": {
    "name": "ipython",
    "version": 3
   },
   "file_extension": ".py",
   "mimetype": "text/x-python",
   "name": "python",
   "nbconvert_exporter": "python",
   "pygments_lexer": "ipython3",
   "version": "3.10.11"
  }
 },
 "nbformat": 4,
 "nbformat_minor": 2
}
